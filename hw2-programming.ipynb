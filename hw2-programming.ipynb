{
 "cells": [
  {
   "cell_type": "markdown",
   "metadata": {},
   "source": [
    "# CS 237: Homework 2 Programming Exercises"
   ]
  },
  {
   "cell_type": "code",
   "execution_count": 10,
   "metadata": {},
   "outputs": [],
   "source": [
    "# add your imports here\n",
    "\n",
    "# here are some examples of imports\n",
    "import matplotlib.pyplot as plt   # for plotting\n",
    "from numpy.random import randint # for simulating random choices\n",
    "from collections import Counter # for aggregating the results"
   ]
  },
  {
   "cell_type": "markdown",
   "metadata": {},
   "source": [
    "In the following exercises, we will write Python code to estimate the probabiliites of the outcomes of an experiment using simulation, similarly to our simulations from Lecture 1. As in class, we will use Matplotlib to plot the results. The following Jupyter notebook provides a brief introduction to plotting using Matplotlib:\n",
    "\n",
    "[Jupyter notebook for plotting](https://nbviewer.jupyter.org/github/alinaene/classdemos/blob/master/intro-python.ipynb)\n",
    "\n",
    "You may add cells, functions, and imports to the notebook as needed. You may find the Counter container useful for aggregating the results of the trials:\n",
    "\n",
    "[Counter documentation](https://docs.python.org/3/library/collections.html#collections.Counter)"
   ]
  },
  {
   "cell_type": "markdown",
   "metadata": {},
   "source": [
    "# Exercise 1\n",
    "In this exercise, we will simulate the experiment of rolling a standard $6$-sided die. As in class, we will simulate the experiment $10,000$ times and estimate the probability of each outcome using the fraction of trials in which we observed the outcome. For example, if we rolled a $6$ in $x$ of the $10000$ rolls, we estimate the probability of $6$ as $x/10000$. As we have seen in class, we can use the randint function to simulate a die roll:\n",
    "\n",
    "        die_roll_result = randint(1, 7) # roll a fair 6-sided die once\n",
    "        die_roll_results = randint(1, 7, 10) # roll a fair 6-sided die 10 times\n",
    "Plot the estimated probabilities. The plot should have the outcomes (i.e., the numbers 1 through 6) on the x-axis with the appropriate label, and the estimated probabilities on the y-axis. We suggest using either a bar plot or a histogram. "
   ]
  },
  {
   "cell_type": "code",
   "execution_count": 16,
   "metadata": {},
   "outputs": [
    {
     "data": {
      "image/png": "[encoded data removed]",
      "text/plain": [
       "<Figure size 432x288 with 1 Axes>"
      ]
     },
     "metadata": {
      "needs_background": "light"
     },
     "output_type": "display_data"
    }
   ],
   "source": [
    "def simulate_die_roll(n_trials = 10000):\n",
    "    \"\"\"\n",
    "     Simulates rolling a fair die.\n",
    "     Plots the estimated probability for each outcome.\n",
    "     n_trials is the number of trials we use.\n",
    "    \"\"\"\n",
    "    x=[1, 2, 3, 4, 5, 6]\n",
    "    y=[]\n",
    "    counts ={ 1:0, 2:0, 3:0, 4:0, 5:0, 6:0 }\n",
    "\n",
    "    for i in range(n_trials):\n",
    "        result = randint(1, 7)  \n",
    "        counts[result]=counts[result]+1\n",
    "\n",
    "    for i in x:\n",
    "        prob=counts[i]/n_trials\n",
    "        y.append(prob)\n",
    "        \n",
    "    plt.xlabel(\"Outcomes\")\n",
    "    plt.ylabel(\"Probability\")\n",
    "    plt.bar(x,y)\n",
    "    plt.show()  \n",
    "\n",
    "# run the code\n",
    "simulate_die_roll()"
   ]
  },
  {
   "cell_type": "markdown",
   "metadata": {},
   "source": [
    "# Exercise 2\n",
    "In this exercise, we will simulate the experiment of rolling n standard dice simultaneously, and recording the sum of the numbers obtained. As before, we perform 10000 trials and we estimate each sum as the fraction of the trials in which we observed that particular sum. Plot the observed sums on the x-axis with the sum as the label, and the estimated probabilities on the y-axis."
   ]
  },
  {
   "cell_type": "code",
   "execution_count": 33,
   "metadata": {},
   "outputs": [
    {
     "data": {
      "image/png": "[encoded data removed]",
      "text/plain": [
       "<Figure size 432x288 with 1 Axes>"
      ]
     },
     "metadata": {
      "needs_background": "light"
     },
     "output_type": "display_data"
    }
   ],
   "source": [
    "def simulate_die_roll_sums(n_dice, n_trials = 10000):\n",
    "    \"\"\"\n",
    "     Simulates simultaneously rolling n_dice, and summing the numbers obtained.\n",
    "     Plots the estimated probabilities for each sum.\n",
    "     n_trials is the number of trials we use.\n",
    "    \"\"\"\n",
    "    x=[]\n",
    "    y=[]\n",
    "    counts={}\n",
    "    for i in range(n_trials):\n",
    "        sum=0\n",
    "        for j in range(n_dice):\n",
    "            result = randint(1, 7)\n",
    "            sum=sum+result\n",
    "        if not sum in x: x.append(sum)\n",
    "        if sum in counts: counts[sum]=counts[sum]+1\n",
    "        else: counts[sum]=1\n",
    "    \n",
    "    for sum in x:\n",
    "        y.append(counts[sum]/n_trials)\n",
    "        \n",
    "    plt.xlabel(\"Sum\")\n",
    "    plt.ylabel(\"Probability\")\n",
    "    plt.bar(x, y)\n",
    "    plt.show()\n",
    "            \n",
    "\n",
    "# example run with 2 dice\n",
    "simulate_die_roll_sums(2)"
   ]
  },
  {
   "cell_type": "markdown",
   "metadata": {},
   "source": [
    "# Exercise 3\n",
    "In this exercise, we will simulate the experiment of tossing a fair coin until we observe heads for the first time. We can use randint(0,2) to simulate a single coin toss (with 0 standing for Heads and 1 for Tails for instance). As before, we perform 10000 trials of the experiment and estimate the probability of each outcome. Plot the estimated probabilities. On the x-axis, use the number of tosses in the outcome as the label. On the y-axis, place the estimated probability of each outcome observed. "
   ]
  },
  {
   "cell_type": "code",
   "execution_count": 43,
   "metadata": {},
   "outputs": [
    {
     "data": {
      "image/png": "[encoded data removed]",
      "text/plain": [
       "<Figure size 432x288 with 1 Axes>"
      ]
     },
     "metadata": {
      "needs_background": "light"
     },
     "output_type": "display_data"
    }
   ],
   "source": [
    "def simulate_toss_coin_until_heads(n_trials = 10000):\n",
    "    \"\"\"\n",
    "     Simulates tossing a fair coin until we obtain heads for the first time.\n",
    "     Plots the estimated probabilities for each outcome observed.\n",
    "    n_trials is the number of trials we use.\n",
    "\n",
    "    \"\"\"\n",
    "    HEADS=0\n",
    "    TAILS=1\n",
    "    x=[]\n",
    "    y=[]\n",
    "    counter=0\n",
    "    counts={}\n",
    "    for i in range(n_trials):\n",
    "        result=randint(0,2)\n",
    "        counter=counter+1\n",
    "        if result==HEADS: \n",
    "            if not counter in x: \n",
    "                x.append(counter)\n",
    "                counts[counter]=0\n",
    "            counts[counter]=counts[counter]+1\n",
    "            counter=0\n",
    "    for count in x:\n",
    "        y.append(counts[count]/n_trials)\n",
    "            \n",
    "    plt.xlabel(\"Tosses\")\n",
    "    plt.ylabel(\"Probability\")\n",
    "    plt.bar(x, y)\n",
    "    plt.show()\n",
    "\n",
    "\n",
    "# run the code\n",
    "simulate_toss_coin_until_heads()"
   ]
  },
  {
   "cell_type": "markdown",
   "metadata": {},
   "source": [
    "# Motivation for simulation\n",
    "For more complicated experiments, it may be difficult to analytically compute the probabilities of outcomes and events of interest. In those scenarios, simulation gives us a way to estimate the desired probabilities. If we perform enough trials, as we will see later in the course, we can often obtain very good estimates."
   ]
  }
 ],
 "metadata": {
  "kernelspec": {
   "display_name": "Python 3",
   "language": "python",
   "name": "python3"
  },
  "language_info": {
   "codemirror_mode": {
    "name": "ipython",
    "version": 3
   },
   "file_extension": ".py",
   "mimetype": "text/x-python",
   "name": "python",
   "nbconvert_exporter": "python",
   "pygments_lexer": "ipython3",
   "version": "3.8.5"
  }
 },
 "nbformat": 4,
 "nbformat_minor": 2
}
